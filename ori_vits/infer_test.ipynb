{
 "cells": [
  {
   "cell_type": "code",
   "execution_count": null,
   "metadata": {},
   "outputs": [],
   "source": [
    "%matplotlib inline\n",
    "import sys\n",
    "import matplotlib.pyplot as plt\n",
    "import IPython.display as ipd\n",
    "from scipy.io.wavfile import write\n",
    "\n",
    "import os\n",
    "import json\n",
    "import math\n",
    "import torch\n",
    "from torch import nn\n",
    "from torch.nn import functional as F\n",
    "from torch.utils.data import DataLoader\n",
    "\n",
    "import commons\n",
    "import utils\n",
    "from data_utils import TextAudioLoader, TextAudioCollate, TextAudioSpeakerLoader, TextAudioSpeakerCollate\n",
    "from models import SynthesizerTrn\n",
    "from text.symbols import symbols\n",
    "from text import text_to_sequence\n",
    "\n",
    "\n",
    "def get_text(text, hps):\n",
    "    text_norm = text_to_sequence(text, hps.data.text_cleaners)\n",
    "    if hps.data.add_blank:\n",
    "        text_norm = commons.intersperse(text_norm, 0)\n",
    "    text_norm = torch.LongTensor(text_norm)\n",
    "    return text_norm\n",
    "\n",
    "def load_data_from_json(file_path):\n",
    "    with open(file_path, 'r') as file:\n",
    "        test_text_sem_dic = json.load(file)\n",
    "    for key in test_text_sem_dic:\n",
    "        test_text_sem_dic[key] = torch.tensor(test_text_sem_dic[key])\n",
    "    return test_text_sem_dic\n",
    "\n",
    "def ensure_directory_exists(dir_path):\n",
    "    if not os.path.exists(dir_path):\n",
    "        os.makedirs(dir_path)"
   ]
  },
  {
   "attachments": {},
   "cell_type": "markdown",
   "metadata": {},
   "source": [
    "## LJ Speech"
   ]
  },
  {
   "cell_type": "code",
   "execution_count": null,
   "metadata": {},
   "outputs": [],
   "source": [
    "# choose pretrained model and the trained step\n",
    "model = 'ljs_base'\n",
    "# model = 'onehour_ljs_base'\n",
    "# model = 'tenmin_ljs_base'\n",
    "# step = 'G_50000'\n",
    "# step = \"G_100000\"\n",
    "step = \"G_150000\"\n",
    "# step = \"G_200000\"\n",
    "# step = \"G_250000\"\n",
    "# step = \"G_300000\"\n",
    "test_text_sem_dic_file = 'ljs_text_sem_ave_5120.json' # only for extracting test text, so any text_sem_dic_file is fine.\n",
    "\n",
    "\n",
    "common_dir = '/data/vitsGPT/vits/'\n",
    "log_dir = f'{common_dir}ori_vits/logs/'\n",
    "save_dir = f'{log_dir}{model}/{step}/source_model_test_wav'\n",
    "ensure_directory_exists(save_dir)\n",
    "hps = utils.get_hparams_from_file(f\"{log_dir}{model}/config.json\")\n",
    "sem_embedding = hps.data.sem_embedding\n",
    "print(f\"configs: {sem_embedding}\")\n",
    "\n",
    "test_text_sem_dic = load_data_from_json(f\"{common_dir}filelists/{test_text_sem_dic_file}\")"
   ]
  },
  {
   "cell_type": "code",
   "execution_count": null,
   "metadata": {},
   "outputs": [],
   "source": [
    "net_g = SynthesizerTrn(\n",
    "    len(symbols),\n",
    "    hps.data.filter_length // 2 + 1,\n",
    "    hps.train.segment_size // hps.data.hop_length,\n",
    "    **hps.model).cuda()\n",
    "_ = net_g.eval()\n",
    "\n",
    "_ = utils.load_checkpoint(f\"{log_dir}{model}/{step}.pth\", net_g, None)"
   ]
  },
  {
   "cell_type": "code",
   "execution_count": null,
   "metadata": {},
   "outputs": [],
   "source": [
    "keys = list(test_text_sem_dic.keys())\n",
    "range_limit = len(keys)\n",
    "range_limit = min(range_limit, len(keys))\n",
    "print(f\"range_limit: {range_limit}\")\n",
    "m = 5\n",
    "\n",
    "for i in range(range_limit):\n",
    "    key = keys[i]  # key 是字符串\n",
    "    s = get_text(key, hps)  # 将 key 赋值给 s\n",
    "    print(key)\n",
    "    with torch.no_grad():\n",
    "        x_tst = s.cuda().unsqueeze(0)\n",
    "        x_tst_lengths = torch.LongTensor([s.size(0)]).cuda()     \n",
    "        print(f\"x_tst: {x_tst.shape}\")\n",
    "        print(f\"x_tst_lengths: {x_tst_lengths}\")  \n",
    "        audio = net_g.infer(x_tst, x_tst_lengths, noise_scale=.667, noise_scale_w=0.8, length_scale=1)[0][0,0].data.cpu().float().numpy()\n",
    "    if i < m:\n",
    "        ipd.display(ipd.Audio(audio, rate=hps.data.sampling_rate, normalize=False))\n",
    "    write(f\"{save_dir}/output_ori_{i}.wav\", hps.data.sampling_rate, audio)"
   ]
  }
 ],
 "metadata": {
  "kernelspec": {
   "display_name": "Python 3",
   "language": "python",
   "name": "python3"
  },
  "language_info": {
   "codemirror_mode": {
    "name": "ipython",
    "version": 3
   },
   "file_extension": ".py",
   "mimetype": "text/x-python",
   "name": "python",
   "nbconvert_exporter": "python",
   "pygments_lexer": "ipython3",
   "version": "3.10.12"
  }
 },
 "nbformat": 4,
 "nbformat_minor": 4
}
